{
 "cells": [
  {
   "cell_type": "code",
   "execution_count": 15,
   "metadata": {},
   "outputs": [],
   "source": [
    "from typing import Optional\n",
    "from fastapi import FastAPI, Depends, Query\n",
    "from fastapi import WebSocket, WebSocketDisconnect\n",
    "from websockets.exceptions import ConnectionClosed\n",
    "from fastapi.middleware.cors import CORSMiddleware\n",
    "from sqlalchemy import create_engine, Column, Integer, String, DateTime, func, desc\n",
    "from sqlalchemy.orm import declarative_base,Session, sessionmaker\n",
    "from pydantic import BaseModel\n",
    "from typing import Optional\n",
    "import asyncio\n",
    "import websocket\n",
    "import time"
   ]
  },
  {
   "cell_type": "code",
   "execution_count": 3,
   "metadata": {},
   "outputs": [],
   "source": [
    "db_full_path = r\"..\\data\\systemMonitoring.db\"\n",
    "sqlite_url = f'sqlite:///{db_full_path}'\n",
    "connect_args = {'check_same_thread': False}\n",
    "\n",
    "engine = create_engine(sqlite_url, connect_args=connect_args)\n",
    "SessionLocal = sessionmaker(autocommit=False, autoflush=False, bind=engine)\n",
    "Base = declarative_base()\n",
    "\n",
    "class appinfo(Base):\n",
    "    __tablename__ = 'app_data'\n",
    "    id = Column(Integer, primary_key=True, autoincrement=True)\n",
    "    timestamp = Column(DateTime, nullable=False) #sqlalchemy parses string as date as long as the string is in 'YYYY-MM-DD HH:MM:SS' format\n",
    "    total_active_processes = Column(Integer, nullable=False)\n",
    "    app_name = Column(String, nullable=False)\n",
    "    cursor_position = Column(String, nullable=False)\n",
    "\n",
    "\n",
    "def get_session(): #creates a new session whenever invoked. so a new session for every query\n",
    "    with SessionLocal() as session:\n",
    "        yield session"
   ]
  },
  {
   "cell_type": "code",
   "execution_count": 10,
   "metadata": {},
   "outputs": [],
   "source": [
    "s = SessionLocal()"
   ]
  },
  {
   "cell_type": "code",
   "execution_count": 22,
   "metadata": {},
   "outputs": [
    {
     "data": {
      "text/plain": [
       "340"
      ]
     },
     "execution_count": 22,
     "metadata": {},
     "output_type": "execute_result"
    }
   ],
   "source": [
    "s.query(appinfo).order_by(desc(appinfo.id)).limit(1).first()."
   ]
  },
  {
   "cell_type": "code",
   "execution_count": 9,
   "metadata": {},
   "outputs": [
    {
     "data": {
      "text/plain": [
       "<function __main__.get_session()>"
      ]
     },
     "execution_count": 9,
     "metadata": {},
     "output_type": "execute_result"
    }
   ],
   "source": [
    "s"
   ]
  },
  {
   "cell_type": "code",
   "execution_count": null,
   "metadata": {},
   "outputs": [],
   "source": []
  },
  {
   "cell_type": "code",
   "execution_count": null,
   "metadata": {},
   "outputs": [],
   "source": []
  }
 ],
 "metadata": {
  "kernelspec": {
   "display_name": "daenv",
   "language": "python",
   "name": "python3"
  },
  "language_info": {
   "codemirror_mode": {
    "name": "ipython",
    "version": 3
   },
   "file_extension": ".py",
   "mimetype": "text/x-python",
   "name": "python",
   "nbconvert_exporter": "python",
   "pygments_lexer": "ipython3",
   "version": "3.12.8"
  }
 },
 "nbformat": 4,
 "nbformat_minor": 2
}
